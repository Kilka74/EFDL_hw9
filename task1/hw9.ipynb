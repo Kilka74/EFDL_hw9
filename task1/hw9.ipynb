{
 "cells": [
  {
   "cell_type": "code",
   "execution_count": 5,
   "id": "dc8a5131-1a35-4d2a-bbf3-bf7e764d98d1",
   "metadata": {
    "execution": {
     "iopub.execute_input": "2024-03-28T18:55:19.029119Z",
     "iopub.status.busy": "2024-03-28T18:55:19.028364Z",
     "iopub.status.idle": "2024-03-28T18:55:19.040493Z",
     "shell.execute_reply": "2024-03-28T18:55:19.039855Z",
     "shell.execute_reply.started": "2024-03-28T18:55:19.029071Z"
    },
    "tags": []
   },
   "outputs": [],
   "source": [
    "from train import train"
   ]
  },
  {
   "cell_type": "code",
   "execution_count": null,
   "id": "7053eebc-348a-48ad-be9d-37f982976a13",
   "metadata": {
    "tags": []
   },
   "outputs": [],
   "source": [
    "params = {\n",
    "    \"batch_size\": 128,\n",
    "    \"num_workers\": 4,\n",
    "    \"lr\": 1e-4,\n",
    "    \"weight_decay\": 0,\n",
    "    \"n_epochs\": 5,\n",
    "    \"wandb_log\": True,\n",
    "    \"save\": True,\n",
    "    \"wandb_key\": \"9f8480fbfcfd1d06b91b59aa5d23ed5482fdee2e\",\n",
    "    \"name\": \"basic fine-tuning of resnet101\"\n",
    "}"
   ]
  },
  {
   "cell_type": "code",
   "execution_count": 2,
   "id": "566102cc-e7ef-4fee-9399-8a72bbfb66fb",
   "metadata": {
    "execution": {
     "iopub.execute_input": "2024-03-28T15:28:31.057645Z",
     "iopub.status.busy": "2024-03-28T15:28:31.056711Z",
     "iopub.status.idle": "2024-03-28T15:28:31.119928Z",
     "shell.execute_reply": "2024-03-28T15:28:31.119118Z",
     "shell.execute_reply.started": "2024-03-28T15:28:31.057606Z"
    },
    "tags": []
   },
   "outputs": [],
   "source": [
    "%load_ext autoreload\n",
    "%autoreload 2"
   ]
  },
  {
   "cell_type": "code",
   "execution_count": null,
   "id": "50b50f9b-7af9-4869-9ea0-1e451d3f8c8c",
   "metadata": {
    "tags": []
   },
   "outputs": [],
   "source": [
    "train(\n",
    "    device=\"cuda\",\n",
    "    params=params,\n",
    "    path=\"first_task\"\n",
    ")"
   ]
  },
  {
   "cell_type": "code",
   "execution_count": null,
   "id": "29b3bea7-c141-46be-a20f-b33286fdf82d",
   "metadata": {
    "tags": []
   },
   "outputs": [],
   "source": [
    "import wandb\n",
    "wandb.finish()"
   ]
  },
  {
   "cell_type": "code",
   "execution_count": 6,
   "id": "25cb7a61-a910-4a13-97b0-63bc61be0854",
   "metadata": {
    "execution": {
     "iopub.execute_input": "2024-03-28T18:55:22.440720Z",
     "iopub.status.busy": "2024-03-28T18:55:22.439902Z",
     "iopub.status.idle": "2024-03-28T18:55:22.450061Z",
     "shell.execute_reply": "2024-03-28T18:55:22.449393Z",
     "shell.execute_reply.started": "2024-03-28T18:55:22.440687Z"
    },
    "tags": []
   },
   "outputs": [],
   "source": [
    "from train import train_distilled"
   ]
  },
  {
   "cell_type": "code",
   "execution_count": 8,
   "id": "16c79e88-ef35-4aff-804d-4cbc4fc7846c",
   "metadata": {
    "execution": {
     "iopub.execute_input": "2024-03-28T18:55:52.919285Z",
     "iopub.status.busy": "2024-03-28T18:55:52.918509Z",
     "iopub.status.idle": "2024-03-28T18:55:52.943302Z",
     "shell.execute_reply": "2024-03-28T18:55:52.942587Z",
     "shell.execute_reply.started": "2024-03-28T18:55:52.919242Z"
    },
    "tags": []
   },
   "outputs": [],
   "source": [
    "params = {\n",
    "    \"batch_size\": 128,\n",
    "    \"num_workers\": 4,\n",
    "    \"lr\": 1e-3,\n",
    "    \"weight_decay\": 0,\n",
    "    \"n_epochs\": 15,\n",
    "    \"wandb_log\": True,\n",
    "    \"save\": True,\n",
    "    \"wandb_key\": \"9f8480fbfcfd1d06b91b59aa5d23ed5482fdee2e\",\n",
    "    \"name\": \"basic distillation of resnet101, weight=0.25\"\n",
    "}"
   ]
  },
  {
   "cell_type": "code",
   "execution_count": 10,
   "id": "506129e1-17dc-40aa-b853-662c10202c55",
   "metadata": {
    "execution": {
     "iopub.execute_input": "2024-03-28T18:55:59.431668Z",
     "iopub.status.busy": "2024-03-28T18:55:59.430882Z",
     "iopub.status.idle": "2024-03-28T20:09:11.246636Z",
     "shell.execute_reply": "2024-03-28T20:09:11.245653Z",
     "shell.execute_reply.started": "2024-03-28T18:55:59.431622Z"
    },
    "tags": []
   },
   "outputs": [
    {
     "name": "stdout",
     "output_type": "stream",
     "text": [
      "prerained case\n",
      "44549160\n",
      "untrained case\n",
      "19971112\n",
      "Files already downloaded and verified\n",
      "Files already downloaded and verified\n"
     ]
    },
    {
     "name": "stderr",
     "output_type": "stream",
     "text": [
      "\u001b[34m\u001b[1mwandb\u001b[0m: \u001b[33mWARNING\u001b[0m If you're specifying your api key in code, ensure this code is not shared publicly.\n",
      "\u001b[34m\u001b[1mwandb\u001b[0m: \u001b[33mWARNING\u001b[0m Consider setting the WANDB_API_KEY environment variable, or running `wandb login` from the command line.\n",
      "\u001b[34m\u001b[1mwandb\u001b[0m: Appending key for api.wandb.ai to your netrc file: /home/jupyter/.netrc\n",
      "\u001b[34m\u001b[1mwandb\u001b[0m: wandb version 0.16.5 is available!  To upgrade, please run:\n",
      "\u001b[34m\u001b[1mwandb\u001b[0m:  $ pip install wandb --upgrade\n",
      "\u001b[34m\u001b[1mwandb\u001b[0m: Tracking run with wandb version 0.16.3\n",
      "\u001b[34m\u001b[1mwandb\u001b[0m: Run data is saved locally in \u001b[35m\u001b[1m/home/jupyter/work/resources/EFDL_hw9/task1/wandb/run-20240328_185603-3wbjk3h0\u001b[0m\n",
      "\u001b[34m\u001b[1mwandb\u001b[0m: Run \u001b[1m`wandb offline`\u001b[0m to turn off syncing.\n",
      "\u001b[34m\u001b[1mwandb\u001b[0m: Syncing run \u001b[33mbasic distillation of resnet101, weight=0.25\u001b[0m\n",
      "\u001b[34m\u001b[1mwandb\u001b[0m: ⭐️ View project at \u001b[34m\u001b[4mhttps://wandb.ai/kilka74/EFDL_hw9\u001b[0m\n",
      "\u001b[34m\u001b[1mwandb\u001b[0m: 🚀 View run at \u001b[34m\u001b[4mhttps://wandb.ai/kilka74/EFDL_hw9/runs/3wbjk3h0\u001b[0m\n",
      "Loss: 1.6304: 100%|██████████| 391/391 [02:57<00:00,  2.21it/s]\n",
      "Accuracy: 0.6261000037193298: 100%|██████████| 79/79 [00:06<00:00, 11.59it/s]\n",
      "Loss: 1.4031: 100%|██████████| 391/391 [03:01<00:00,  2.15it/s]\n",
      "Accuracy: 0.7224999666213989: 100%|██████████| 79/79 [00:06<00:00, 11.57it/s]\n",
      "Loss: 1.3993: 100%|██████████| 391/391 [03:01<00:00,  2.15it/s]\n",
      "Accuracy: 0.7506999969482422: 100%|██████████| 79/79 [00:06<00:00, 11.60it/s]\n",
      "Loss: 1.3648: 100%|██████████| 391/391 [03:01<00:00,  2.15it/s]\n",
      "Accuracy: 0.7554000020027161: 100%|██████████| 79/79 [00:06<00:00, 11.54it/s]\n",
      "Loss: 1.2371: 100%|██████████| 391/391 [03:01<00:00,  2.15it/s]\n",
      "Accuracy: 0.7281000018119812: 100%|██████████| 79/79 [00:06<00:00, 11.57it/s]\n",
      "Loss: 1.2472: 100%|██████████| 391/391 [03:01<00:00,  2.15it/s]\n",
      "Accuracy: 0.7863999605178833: 100%|██████████| 79/79 [00:06<00:00, 11.58it/s]\n",
      "Loss: 1.1810: 100%|██████████| 391/391 [03:01<00:00,  2.15it/s]\n",
      "Accuracy: 0.8011999726295471: 100%|██████████| 79/79 [00:06<00:00, 11.54it/s]\n",
      "Loss: 1.1776: 100%|██████████| 391/391 [03:01<00:00,  2.15it/s]\n",
      "Accuracy: 0.799299955368042: 100%|██████████| 79/79 [00:06<00:00, 11.56it/s] \n",
      "Loss: 1.1208: 100%|██████████| 391/391 [03:01<00:00,  2.15it/s]\n",
      "Accuracy: 0.8062999844551086: 100%|██████████| 79/79 [00:06<00:00, 11.57it/s]\n",
      "\u001b[34m\u001b[1mwandb\u001b[0m: \u001b[32m\u001b[41mERROR\u001b[0m Control-C detected -- Run data was not synced\n"
     ]
    }
   ],
   "source": [
    "train_distilled(\n",
    "    device=\"cuda\",\n",
    "    params=params,\n",
    "    teacher_path=\"first_task.pth\",\n",
    "    path=\"distilled\"\n",
    ")"
   ]
  },
  {
   "cell_type": "code",
   "execution_count": 7,
   "id": "742a5be5-c7c9-492b-9f17-d711f998c771",
   "metadata": {
    "execution": {
     "iopub.execute_input": "2024-03-28T17:39:58.691693Z",
     "iopub.status.busy": "2024-03-28T17:39:58.690883Z",
     "iopub.status.idle": "2024-03-28T17:39:58.700186Z",
     "shell.execute_reply": "2024-03-28T17:39:58.699552Z",
     "shell.execute_reply.started": "2024-03-28T17:39:58.691650Z"
    },
    "tags": []
   },
   "outputs": [],
   "source": [
    "import wandb\n",
    "wandb.finish()"
   ]
  },
  {
   "cell_type": "markdown",
   "id": "1dc72a41-34cf-442f-8e18-edd7fcbfe280",
   "metadata": {},
   "source": [
    "pretrained = False for truncated version of resnet101 in file train.py"
   ]
  },
  {
   "cell_type": "code",
   "execution_count": 3,
   "id": "979d0641-4a99-424c-8a43-4fc81dbd9594",
   "metadata": {
    "execution": {
     "iopub.execute_input": "2024-03-28T15:28:32.771955Z",
     "iopub.status.busy": "2024-03-28T15:28:32.771140Z",
     "iopub.status.idle": "2024-03-28T15:28:32.957640Z",
     "shell.execute_reply": "2024-03-28T15:28:32.956834Z",
     "shell.execute_reply.started": "2024-03-28T15:28:32.771922Z"
    },
    "tags": []
   },
   "outputs": [],
   "source": [
    "params = {\n",
    "    \"batch_size\": 128,\n",
    "    \"num_workers\": 4,\n",
    "    \"lr\": 1e-3,\n",
    "    \"weight_decay\": 0,\n",
    "    \"n_epochs\": 10,\n",
    "    \"wandb_log\": True,\n",
    "    \"save\": True,\n",
    "    \"wandb_key\": \"9f8480fbfcfd1d06b91b59aa5d23ed5482fdee2e\",\n",
    "    \"name\": \"truncated version of resnet101\"\n",
    "}"
   ]
  },
  {
   "cell_type": "code",
   "execution_count": 4,
   "id": "69e9352f-325a-41e5-bb19-53d426ea7e08",
   "metadata": {
    "execution": {
     "iopub.execute_input": "2024-03-28T15:28:37.478878Z",
     "iopub.status.busy": "2024-03-28T15:28:37.477947Z",
     "iopub.status.idle": "2024-03-28T15:48:41.023238Z",
     "shell.execute_reply": "2024-03-28T15:48:41.022485Z",
     "shell.execute_reply.started": "2024-03-28T15:28:37.478836Z"
    },
    "tags": []
   },
   "outputs": [
    {
     "name": "stdout",
     "output_type": "stream",
     "text": [
      "untrained case\n",
      "19971112\n",
      "Files already downloaded and verified\n",
      "Files already downloaded and verified\n"
     ]
    },
    {
     "name": "stderr",
     "output_type": "stream",
     "text": [
      "\u001b[34m\u001b[1mwandb\u001b[0m: \u001b[33mWARNING\u001b[0m If you're specifying your api key in code, ensure this code is not shared publicly.\n",
      "\u001b[34m\u001b[1mwandb\u001b[0m: \u001b[33mWARNING\u001b[0m Consider setting the WANDB_API_KEY environment variable, or running `wandb login` from the command line.\n",
      "\u001b[34m\u001b[1mwandb\u001b[0m: Appending key for api.wandb.ai to your netrc file: /home/jupyter/.netrc\n",
      "\u001b[34m\u001b[1mwandb\u001b[0m: Currently logged in as: \u001b[33mkilka74\u001b[0m. Use \u001b[1m`wandb login --relogin`\u001b[0m to force relogin\n",
      "\u001b[34m\u001b[1mwandb\u001b[0m: wandb version 0.16.5 is available!  To upgrade, please run:\n",
      "\u001b[34m\u001b[1mwandb\u001b[0m:  $ pip install wandb --upgrade\n",
      "\u001b[34m\u001b[1mwandb\u001b[0m: Tracking run with wandb version 0.16.3\n",
      "\u001b[34m\u001b[1mwandb\u001b[0m: Run data is saved locally in \u001b[35m\u001b[1m/home/jupyter/work/resources/EFDL_hw9/task1/wandb/run-20240328_152841-1t1yao9h\u001b[0m\n",
      "\u001b[34m\u001b[1mwandb\u001b[0m: Run \u001b[1m`wandb offline`\u001b[0m to turn off syncing.\n",
      "\u001b[34m\u001b[1mwandb\u001b[0m: Syncing run \u001b[33mtruncated version of resnet101\u001b[0m\n",
      "\u001b[34m\u001b[1mwandb\u001b[0m: ⭐️ View project at \u001b[34m\u001b[4mhttps://wandb.ai/kilka74/EFDL_hw9\u001b[0m\n",
      "\u001b[34m\u001b[1mwandb\u001b[0m: 🚀 View run at \u001b[34m\u001b[4mhttps://wandb.ai/kilka74/EFDL_hw9/runs/1t1yao9h\u001b[0m\n",
      "Loss: 0.9377: 100%|██████████| 391/391 [01:48<00:00,  3.62it/s]\n",
      "Accuracy: 0.6128000020980835: 100%|██████████| 79/79 [00:06<00:00, 11.86it/s]\n",
      "Loss: 0.8721: 100%|██████████| 391/391 [01:51<00:00,  3.50it/s]\n",
      "Accuracy: 0.698199987411499: 100%|██████████| 79/79 [00:06<00:00, 11.63it/s] \n",
      "Loss: 0.4986: 100%|██████████| 391/391 [01:52<00:00,  3.46it/s]\n",
      "Accuracy: 0.7263999581336975: 100%|██████████| 79/79 [00:06<00:00, 11.62it/s]\n",
      "Loss: 0.6706: 100%|██████████| 391/391 [01:52<00:00,  3.46it/s]\n",
      "Accuracy: 0.7500999569892883: 100%|██████████| 79/79 [00:06<00:00, 11.60it/s]\n",
      "Loss: 0.3118: 100%|██████████| 391/391 [01:52<00:00,  3.46it/s]\n",
      "Accuracy: 0.7604999542236328: 100%|██████████| 79/79 [00:06<00:00, 11.59it/s]\n",
      "Loss: 0.2553: 100%|██████████| 391/391 [01:52<00:00,  3.46it/s]\n",
      "Accuracy: 0.7913999557495117: 100%|██████████| 79/79 [00:06<00:00, 11.55it/s]\n",
      "Loss: 0.3209: 100%|██████████| 391/391 [01:52<00:00,  3.46it/s]\n",
      "Accuracy: 0.8087999820709229: 100%|██████████| 79/79 [00:06<00:00, 11.58it/s]\n",
      "Loss: 0.2021: 100%|██████████| 391/391 [01:52<00:00,  3.46it/s]\n",
      "Accuracy: 0.8043999671936035: 100%|██████████| 79/79 [00:06<00:00, 11.63it/s]\n",
      "Loss: 0.4730: 100%|██████████| 391/391 [01:52<00:00,  3.46it/s]\n",
      "Accuracy: 0.7910999655723572: 100%|██████████| 79/79 [00:06<00:00, 11.59it/s]\n",
      "Loss: 0.2230: 100%|██████████| 391/391 [01:52<00:00,  3.46it/s]\n",
      "Accuracy: 0.8083999752998352: 100%|██████████| 79/79 [00:06<00:00, 11.64it/s]\n"
     ]
    },
    {
     "name": "stdout",
     "output_type": "stream",
     "text": [
      "finish\n"
     ]
    },
    {
     "name": "stderr",
     "output_type": "stream",
     "text": [
      "wandb: WARNING No program path found, not creating job artifact. See https://docs.wandb.ai/guides/launch/create-job\n",
      "\u001b[34m\u001b[1mwandb\u001b[0m:                                                                                \n",
      "\u001b[34m\u001b[1mwandb\u001b[0m: \n",
      "\u001b[34m\u001b[1mwandb\u001b[0m: Run history:\n",
      "\u001b[34m\u001b[1mwandb\u001b[0m: accuracy ▁▄▅▆▆▇██▇█\n",
      "\u001b[34m\u001b[1mwandb\u001b[0m:     loss █▆▆▅▅▅▄▄▄▃▃▃▃▃▂▃▂▂▂▂▂▁▂▂▁▁▁▂▁▁▂▁▁▁▂▂▁▁▁▁\n",
      "\u001b[34m\u001b[1mwandb\u001b[0m: \n",
      "\u001b[34m\u001b[1mwandb\u001b[0m: Run summary:\n",
      "\u001b[34m\u001b[1mwandb\u001b[0m: accuracy 0.8084\n",
      "\u001b[34m\u001b[1mwandb\u001b[0m:     loss 0.22296\n",
      "\u001b[34m\u001b[1mwandb\u001b[0m: \n",
      "\u001b[34m\u001b[1mwandb\u001b[0m: 🚀 View run \u001b[33mtruncated version of resnet101\u001b[0m at: \u001b[34m\u001b[4mhttps://wandb.ai/kilka74/EFDL_hw9/runs/1t1yao9h\u001b[0m\n",
      "\u001b[34m\u001b[1mwandb\u001b[0m: Synced 5 W&B file(s), 0 media file(s), 0 artifact file(s) and 0 other file(s)\n",
      "\u001b[34m\u001b[1mwandb\u001b[0m: Find logs at: \u001b[35m\u001b[1m./wandb/run-20240328_152841-1t1yao9h/logs\u001b[0m\n"
     ]
    }
   ],
   "source": [
    "train(device=\"cuda\", params=params, path=\"truncated\")"
   ]
  },
  {
   "cell_type": "code",
   "execution_count": 3,
   "id": "e3ce75e4-5733-488c-ab98-9c1131e6e122",
   "metadata": {
    "execution": {
     "iopub.execute_input": "2024-03-28T18:09:50.323971Z",
     "iopub.status.busy": "2024-03-28T18:09:50.323060Z",
     "iopub.status.idle": "2024-03-28T18:09:50.337856Z",
     "shell.execute_reply": "2024-03-28T18:09:50.337070Z",
     "shell.execute_reply.started": "2024-03-28T18:09:50.323931Z"
    },
    "tags": []
   },
   "outputs": [],
   "source": [
    "params = {\n",
    "    \"batch_size\": 128,\n",
    "    \"num_workers\": 4,\n",
    "    \"lr\": 1e-3,\n",
    "    \"weight_decay\": 0,\n",
    "    \"n_epochs\": 15,\n",
    "    \"wandb_log\": True,\n",
    "    \"save\": True,\n",
    "    \"wandb_key\": \"9f8480fbfcfd1d06b91b59aa5d23ed5482fdee2e\",\n",
    "    \"name\": \"distillation of resnet101 with mse\"\n",
    "}"
   ]
  },
  {
   "cell_type": "code",
   "execution_count": 4,
   "id": "21920aaf-6ec9-4c26-aca4-c03a99979551",
   "metadata": {
    "execution": {
     "iopub.execute_input": "2024-03-28T18:09:52.672662Z",
     "iopub.status.busy": "2024-03-28T18:09:52.671652Z",
     "iopub.status.idle": "2024-03-28T18:35:33.126270Z",
     "shell.execute_reply": "2024-03-28T18:35:33.125157Z",
     "shell.execute_reply.started": "2024-03-28T18:09:52.672618Z"
    },
    "tags": []
   },
   "outputs": [
    {
     "name": "stdout",
     "output_type": "stream",
     "text": [
      "prerained case\n"
     ]
    },
    {
     "name": "stderr",
     "output_type": "stream",
     "text": [
      "Downloading: \"https://download.pytorch.org/models/resnet101-cd907fc2.pth\" to /tmp/xdg_cache/torch/hub/checkpoints/resnet101-cd907fc2.pth\n",
      "100%|██████████| 171M/171M [00:02<00:00, 68.9MB/s] \n"
     ]
    },
    {
     "name": "stdout",
     "output_type": "stream",
     "text": [
      "44549160\n",
      "untrained case\n",
      "19971112\n",
      "Files already downloaded and verified\n",
      "Files already downloaded and verified\n"
     ]
    },
    {
     "name": "stderr",
     "output_type": "stream",
     "text": [
      "\u001b[34m\u001b[1mwandb\u001b[0m: \u001b[33mWARNING\u001b[0m If you're specifying your api key in code, ensure this code is not shared publicly.\n",
      "\u001b[34m\u001b[1mwandb\u001b[0m: \u001b[33mWARNING\u001b[0m Consider setting the WANDB_API_KEY environment variable, or running `wandb login` from the command line.\n",
      "\u001b[34m\u001b[1mwandb\u001b[0m: Appending key for api.wandb.ai to your netrc file: /home/jupyter/.netrc\n",
      "\u001b[34m\u001b[1mwandb\u001b[0m: Currently logged in as: \u001b[33mkilka74\u001b[0m. Use \u001b[1m`wandb login --relogin`\u001b[0m to force relogin\n",
      "\u001b[34m\u001b[1mwandb\u001b[0m: wandb version 0.16.5 is available!  To upgrade, please run:\n",
      "\u001b[34m\u001b[1mwandb\u001b[0m:  $ pip install wandb --upgrade\n",
      "\u001b[34m\u001b[1mwandb\u001b[0m: Tracking run with wandb version 0.16.3\n",
      "\u001b[34m\u001b[1mwandb\u001b[0m: Run data is saved locally in \u001b[35m\u001b[1m/home/jupyter/work/resources/EFDL_hw9/task1/wandb/run-20240328_181000-dwrt5ica\u001b[0m\n",
      "\u001b[34m\u001b[1mwandb\u001b[0m: Run \u001b[1m`wandb offline`\u001b[0m to turn off syncing.\n",
      "\u001b[34m\u001b[1mwandb\u001b[0m: Syncing run \u001b[33mdistillation of resnet101 with mse\u001b[0m\n",
      "\u001b[34m\u001b[1mwandb\u001b[0m: ⭐️ View project at \u001b[34m\u001b[4mhttps://wandb.ai/kilka74/EFDL_hw9\u001b[0m\n",
      "\u001b[34m\u001b[1mwandb\u001b[0m: 🚀 View run at \u001b[34m\u001b[4mhttps://wandb.ai/kilka74/EFDL_hw9/runs/dwrt5ica\u001b[0m\n",
      "Loss: 1.6326: 100%|██████████| 391/391 [02:59<00:00,  2.18it/s]\n",
      "Accuracy: 0.5641999840736389: 100%|██████████| 79/79 [00:06<00:00, 11.50it/s]\n",
      "Loss: 1.4603: 100%|██████████| 391/391 [03:04<00:00,  2.12it/s]\n",
      "Accuracy: 0.5593999624252319: 100%|██████████| 79/79 [00:06<00:00, 11.64it/s]\n",
      "Loss: 1.3254: 100%|██████████| 391/391 [03:04<00:00,  2.12it/s]\n",
      "Accuracy: 0.7339000105857849: 100%|██████████| 79/79 [00:06<00:00, 11.66it/s]\n",
      "Loss: 1.2657: 100%|██████████| 391/391 [03:04<00:00,  2.12it/s]\n",
      "Accuracy: 0.7591999769210815: 100%|██████████| 79/79 [00:06<00:00, 11.62it/s]\n",
      "Loss: 1.2611: 100%|██████████| 391/391 [03:04<00:00,  2.12it/s]\n",
      "Accuracy: 0.6917999982833862: 100%|██████████| 79/79 [00:06<00:00, 11.62it/s]\n",
      "Loss: 1.1850: 100%|██████████| 391/391 [03:04<00:00,  2.12it/s]\n",
      "Accuracy: 0.7935000061988831: 100%|██████████| 79/79 [00:06<00:00, 11.63it/s]\n",
      "Loss: 1.1047: 100%|██████████| 391/391 [03:04<00:00,  2.12it/s]\n",
      "Accuracy: 0.7911999821662903: 100%|██████████| 79/79 [00:06<00:00, 11.63it/s]\n",
      "Loss: 1.1111: 100%|██████████| 391/391 [03:04<00:00,  2.12it/s]\n",
      "Accuracy: 0.7913999557495117: 100%|██████████| 79/79 [00:06<00:00, 11.66it/s]\n",
      "wandb: WARNING No program path found, not creating job artifact. See https://docs.wandb.ai/guides/launch/create-job\n",
      "\u001b[34m\u001b[1mwandb\u001b[0m:                                                                                \n",
      "\u001b[34m\u001b[1mwandb\u001b[0m: \n",
      "\u001b[34m\u001b[1mwandb\u001b[0m: Run history:\n",
      "\u001b[34m\u001b[1mwandb\u001b[0m: accuracy ▁▁▆▇▅███\n",
      "\u001b[34m\u001b[1mwandb\u001b[0m:     loss █▆▅▄▄▄▄▃▃▃▃▂▃▃▂▂▂▂▂▂▂▂▂▂▁▁▂▂▂▁▁▁▁▁▁▁▁▁▁▁\n",
      "\u001b[34m\u001b[1mwandb\u001b[0m: \n",
      "\u001b[34m\u001b[1mwandb\u001b[0m: Run summary:\n",
      "\u001b[34m\u001b[1mwandb\u001b[0m: accuracy 0.7914\n",
      "\u001b[34m\u001b[1mwandb\u001b[0m:     loss 1.11111\n",
      "\u001b[34m\u001b[1mwandb\u001b[0m: \n",
      "\u001b[34m\u001b[1mwandb\u001b[0m: 🚀 View run \u001b[33mdistillation of resnet101 with mse\u001b[0m at: \u001b[34m\u001b[4mhttps://wandb.ai/kilka74/EFDL_hw9/runs/dwrt5ica\u001b[0m\n",
      "\u001b[34m\u001b[1mwandb\u001b[0m: Synced 5 W&B file(s), 0 media file(s), 0 artifact file(s) and 0 other file(s)\n",
      "\u001b[34m\u001b[1mwandb\u001b[0m: Find logs at: \u001b[35m\u001b[1m./wandb/run-20240328_181000-dwrt5ica/logs\u001b[0m\n"
     ]
    }
   ],
   "source": [
    "train_distilled(\n",
    "    device=\"cuda\",\n",
    "    params=params,\n",
    "    teacher_path=\"first_task.pth\",\n",
    "    path=\"distilled_with_mse\",\n",
    "    add_mse=True\n",
    ")"
   ]
  },
  {
   "cell_type": "code",
   "execution_count": 2,
   "id": "4466b72d-0da4-409c-8b93-ce6b665187f8",
   "metadata": {
    "execution": {
     "iopub.execute_input": "2024-03-29T08:07:27.188787Z",
     "iopub.status.busy": "2024-03-29T08:07:27.187992Z",
     "iopub.status.idle": "2024-03-29T08:09:54.917143Z",
     "shell.execute_reply": "2024-03-29T08:09:54.916089Z",
     "shell.execute_reply.started": "2024-03-29T08:07:27.188740Z"
    },
    "tags": []
   },
   "outputs": [
    {
     "name": "stdout",
     "output_type": "stream",
     "text": [
      "Defaulting to user installation because normal site-packages is not writeable\n",
      "\u001b[33mWARNING: Ignoring invalid distribution -vidia-cudnn-cu12 (/home/jupyter/.local/lib/python3.10/site-packages)\u001b[0m\u001b[33m\n",
      "\u001b[0mCollecting deepsparse==1.7.0\n",
      "  Downloading deepsparse-1.7.0-cp310-cp310-manylinux_2_17_x86_64.manylinux2014_x86_64.whl.metadata (23 kB)\n",
      "Collecting sparseml==1.7.0\n",
      "  Downloading sparseml-1.7.0-py3-none-any.whl.metadata (23 kB)\n",
      "Collecting torch==1.12.1\n",
      "  Downloading torch-1.12.1-cp310-cp310-manylinux1_x86_64.whl.metadata (22 kB)\n",
      "Collecting sparsezoo~=1.7.0 (from deepsparse==1.7.0)\n",
      "  Downloading sparsezoo-1.7.0-py3-none-any.whl.metadata (20 kB)\n",
      "Requirement already satisfied: numpy>=1.16.3 in /home/jupyter/.local/lib/python3.10/site-packages (from deepsparse==1.7.0) (1.26.4)\n",
      "Collecting onnx<1.15.0,>=1.5.0 (from deepsparse==1.7.0)\n",
      "  Downloading onnx-1.14.1-cp310-cp310-manylinux_2_17_x86_64.manylinux2014_x86_64.whl.metadata (15 kB)\n",
      "Requirement already satisfied: pydantic<2.0.0,>=1.8.2 in /usr/local/lib/python3.10/dist-packages (from deepsparse==1.7.0) (1.10.12)\n",
      "Requirement already satisfied: requests>=2.0.0 in /kernel/lib/python3.10/site-packages (from deepsparse==1.7.0) (2.31.0)\n",
      "Requirement already satisfied: tqdm>=4.0.0 in /home/jupyter/.local/lib/python3.10/site-packages (from deepsparse==1.7.0) (4.66.2)\n",
      "Requirement already satisfied: protobuf>=3.12.2 in /usr/local/lib/python3.10/dist-packages (from deepsparse==1.7.0) (3.20.3)\n",
      "Requirement already satisfied: click!=8.0.0,>=7.1.2 in /usr/local/lib/python3.10/dist-packages (from deepsparse==1.7.0) (8.1.6)\n",
      "Collecting setuptools<=59.5.0 (from sparseml==1.7.0)\n",
      "  Downloading setuptools-59.5.0-py3-none-any.whl.metadata (5.0 kB)\n",
      "Requirement already satisfied: pyyaml>=5.0.0 in /home/jupyter/.local/lib/python3.10/site-packages (from sparseml==1.7.0) (6.0.1)\n",
      "Requirement already satisfied: matplotlib>=3.0.0 in /usr/local/lib/python3.10/dist-packages (from sparseml==1.7.0) (3.7.1)\n",
      "Collecting merge-args>=0.1.0 (from sparseml==1.7.0)\n",
      "  Downloading merge_args-0.1.5-py2.py3-none-any.whl.metadata (3.7 kB)\n",
      "Requirement already satisfied: pandas>=0.25.0 in /home/jupyter/.local/lib/python3.10/site-packages (from sparseml==1.7.0) (2.2.1)\n",
      "Requirement already satisfied: packaging>=20.0 in /kernel/lib/python3.10/site-packages (from sparseml==1.7.0) (23.2)\n",
      "Requirement already satisfied: psutil>=5.0.0 in /kernel/lib/python3.10/site-packages (from sparseml==1.7.0) (5.7.3)\n",
      "Requirement already satisfied: scikit-learn>=0.24.2 in /usr/local/lib/python3.10/dist-packages (from sparseml==1.7.0) (1.2.2)\n",
      "Collecting toposort>=1.0 (from sparseml==1.7.0)\n",
      "  Downloading toposort-1.10-py3-none-any.whl.metadata (4.1 kB)\n",
      "Collecting GPUtil>=1.4.0 (from sparseml==1.7.0)\n",
      "  Downloading GPUtil-1.4.0.tar.gz (5.5 kB)\n",
      "  Preparing metadata (setup.py) ... \u001b[?25ldone\n",
      "\u001b[?25hRequirement already satisfied: scipy>=1.0.0 in /usr/local/lib/python3.10/dist-packages (from sparseml==1.7.0) (1.10.1)\n",
      "Requirement already satisfied: typing-extensions in /kernel/lib/python3.10/site-packages (from torch==1.12.1) (4.10.0)\n",
      "Requirement already satisfied: contourpy>=1.0.1 in /usr/local/lib/python3.10/dist-packages (from matplotlib>=3.0.0->sparseml==1.7.0) (1.1.0)\n",
      "Requirement already satisfied: cycler>=0.10 in /usr/local/lib/python3.10/dist-packages (from matplotlib>=3.0.0->sparseml==1.7.0) (0.11.0)\n",
      "Requirement already satisfied: fonttools>=4.22.0 in /usr/local/lib/python3.10/dist-packages (from matplotlib>=3.0.0->sparseml==1.7.0) (4.41.1)\n",
      "Requirement already satisfied: kiwisolver>=1.0.1 in /usr/local/lib/python3.10/dist-packages (from matplotlib>=3.0.0->sparseml==1.7.0) (1.4.4)\n",
      "Requirement already satisfied: pillow>=6.2.0 in /usr/local/lib/python3.10/dist-packages (from matplotlib>=3.0.0->sparseml==1.7.0) (9.4.0)\n",
      "Requirement already satisfied: pyparsing>=2.3.1 in /kernel/lib/python3.10/site-packages (from matplotlib>=3.0.0->sparseml==1.7.0) (2.4.7)\n",
      "Requirement already satisfied: python-dateutil>=2.7 in /kernel/lib/python3.10/site-packages (from matplotlib>=3.0.0->sparseml==1.7.0) (2.9.0.post0)\n",
      "Requirement already satisfied: pytz>=2020.1 in /home/jupyter/.local/lib/python3.10/site-packages (from pandas>=0.25.0->sparseml==1.7.0) (2024.1)\n",
      "Requirement already satisfied: tzdata>=2022.7 in /home/jupyter/.local/lib/python3.10/site-packages (from pandas>=0.25.0->sparseml==1.7.0) (2024.1)\n",
      "Requirement already satisfied: charset-normalizer<4,>=2 in /kernel/lib/python3.10/site-packages (from requests>=2.0.0->deepsparse==1.7.0) (3.3.2)\n",
      "Requirement already satisfied: idna<4,>=2.5 in /kernel/lib/python3.10/site-packages (from requests>=2.0.0->deepsparse==1.7.0) (3.6)\n",
      "Requirement already satisfied: urllib3<3,>=1.21.1 in /kernel/lib/python3.10/site-packages (from requests>=2.0.0->deepsparse==1.7.0) (1.25.11)\n",
      "Requirement already satisfied: certifi>=2017.4.17 in /kernel/lib/python3.10/site-packages (from requests>=2.0.0->deepsparse==1.7.0) (2024.2.2)\n",
      "Requirement already satisfied: joblib>=1.1.1 in /usr/local/lib/python3.10/dist-packages (from scikit-learn>=0.24.2->sparseml==1.7.0) (1.3.1)\n",
      "Requirement already satisfied: threadpoolctl>=2.0.0 in /usr/local/lib/python3.10/dist-packages (from scikit-learn>=0.24.2->sparseml==1.7.0) (3.2.0)\n",
      "Collecting py-machineid>=0.3.0 (from sparsezoo~=1.7.0->deepsparse==1.7.0)\n",
      "  Downloading py_machineid-0.5.1-py3-none-any.whl.metadata (2.3 kB)\n",
      "Collecting geocoder>=1.38.0 (from sparsezoo~=1.7.0->deepsparse==1.7.0)\n",
      "  Downloading geocoder-1.38.1-py2.py3-none-any.whl.metadata (14 kB)\n",
      "Collecting onnxruntime>=1.0.0 (from sparsezoo~=1.7.0->deepsparse==1.7.0)\n",
      "  Downloading onnxruntime-1.17.1-cp310-cp310-manylinux_2_27_x86_64.manylinux_2_28_x86_64.whl.metadata (4.3 kB)\n",
      "Requirement already satisfied: future in /usr/local/lib/python3.10/dist-packages (from geocoder>=1.38.0->sparsezoo~=1.7.0->deepsparse==1.7.0) (0.18.3)\n",
      "Collecting ratelim (from geocoder>=1.38.0->sparsezoo~=1.7.0->deepsparse==1.7.0)\n",
      "  Downloading ratelim-0.1.6-py2.py3-none-any.whl.metadata (1.4 kB)\n",
      "Requirement already satisfied: six in /kernel/lib/python3.10/site-packages (from geocoder>=1.38.0->sparsezoo~=1.7.0->deepsparse==1.7.0) (1.16.0)\n",
      "Collecting coloredlogs (from onnxruntime>=1.0.0->sparsezoo~=1.7.0->deepsparse==1.7.0)\n",
      "  Downloading coloredlogs-15.0.1-py2.py3-none-any.whl.metadata (12 kB)\n",
      "Requirement already satisfied: flatbuffers in /usr/local/lib/python3.10/dist-packages (from onnxruntime>=1.0.0->sparsezoo~=1.7.0->deepsparse==1.7.0) (23.5.26)\n",
      "Requirement already satisfied: sympy in /home/jupyter/.local/lib/python3.10/site-packages (from onnxruntime>=1.0.0->sparsezoo~=1.7.0->deepsparse==1.7.0) (1.12)\n",
      "Collecting humanfriendly>=9.1 (from coloredlogs->onnxruntime>=1.0.0->sparsezoo~=1.7.0->deepsparse==1.7.0)\n",
      "  Downloading humanfriendly-10.0-py2.py3-none-any.whl.metadata (9.2 kB)\n",
      "Requirement already satisfied: decorator in /kernel/lib/python3.10/site-packages (from ratelim->geocoder>=1.38.0->sparsezoo~=1.7.0->deepsparse==1.7.0) (5.1.1)\n",
      "Requirement already satisfied: mpmath>=0.19 in /home/jupyter/.local/lib/python3.10/site-packages (from sympy->onnxruntime>=1.0.0->sparsezoo~=1.7.0->deepsparse==1.7.0) (1.3.0)\n",
      "Downloading deepsparse-1.7.0-cp310-cp310-manylinux_2_17_x86_64.manylinux2014_x86_64.whl (47.1 MB)\n",
      "\u001b[2K   \u001b[90m━━━━━━━━━━━━━━━━━━━━━━━━━━━━━━━━━━━━━━━━\u001b[0m \u001b[32m47.1/47.1 MB\u001b[0m \u001b[31m71.8 MB/s\u001b[0m eta \u001b[36m0:00:00\u001b[0m:00:01\u001b[0m00:01\u001b[0m\n",
      "\u001b[?25hDownloading sparseml-1.7.0-py3-none-any.whl (1.3 MB)\n",
      "\u001b[2K   \u001b[90m━━━━━━━━━━━━━━━━━━━━━━━━━━━━━━━━━━━━━━━━\u001b[0m \u001b[32m1.3/1.3 MB\u001b[0m \u001b[31m76.9 MB/s\u001b[0m eta \u001b[36m0:00:00\u001b[0m\n",
      "\u001b[?25hDownloading torch-1.12.1-cp310-cp310-manylinux1_x86_64.whl (776.3 MB)\n",
      "\u001b[2K   \u001b[90m━━━━━━━━━━━━━━━━━━━━━━━━━━━━━━━━━━━━━━━\u001b[0m \u001b[32m776.3/776.3 MB\u001b[0m \u001b[31m438.7 kB/s\u001b[0m eta \u001b[36m0:00:00\u001b[0m00:01\u001b[0m00:01\u001b[0m\n",
      "\u001b[?25hDownloading merge_args-0.1.5-py2.py3-none-any.whl (6.0 kB)\n",
      "Downloading onnx-1.14.1-cp310-cp310-manylinux_2_17_x86_64.manylinux2014_x86_64.whl (14.6 MB)\n",
      "\u001b[2K   \u001b[90m━━━━━━━━━━━━━━━━━━━━━━━━━━━━━━━━━━━━━━━━\u001b[0m \u001b[32m14.6/14.6 MB\u001b[0m \u001b[31m3.3 MB/s\u001b[0m eta \u001b[36m0:00:00\u001b[0m0:00:01\u001b[0m00:01\u001b[0m\n",
      "\u001b[?25hDownloading setuptools-59.5.0-py3-none-any.whl (952 kB)\n",
      "\u001b[2K   \u001b[90m━━━━━━━━━━━━━━━━━━━━━━━━━━━━━━━━━━━━━━━\u001b[0m \u001b[32m952.4/952.4 kB\u001b[0m \u001b[31m400.7 kB/s\u001b[0m eta \u001b[36m0:00:00\u001b[0m00:01\u001b[0m\n",
      "\u001b[?25hDownloading sparsezoo-1.7.0-py3-none-any.whl (177 kB)\n",
      "\u001b[2K   \u001b[90m━━━━━━━━━━━━━━━━━━━━━━━━━━━━━━━━━━━━━━━━\u001b[0m \u001b[32m177.6/177.6 kB\u001b[0m \u001b[31m15.5 MB/s\u001b[0m eta \u001b[36m0:00:00\u001b[0m\n",
      "\u001b[?25hDownloading toposort-1.10-py3-none-any.whl (8.5 kB)\n",
      "Downloading geocoder-1.38.1-py2.py3-none-any.whl (98 kB)\n",
      "\u001b[2K   \u001b[90m━━━━━━━━━━━━━━━━━━━━━━━━━━━━━━━━━━━━━━━━\u001b[0m \u001b[32m98.6/98.6 kB\u001b[0m \u001b[31m8.1 MB/s\u001b[0m eta \u001b[36m0:00:00\u001b[0m\n",
      "\u001b[?25hDownloading onnxruntime-1.17.1-cp310-cp310-manylinux_2_27_x86_64.manylinux_2_28_x86_64.whl (6.8 MB)\n",
      "\u001b[2K   \u001b[90m━━━━━━━━━━━━━━━━━━━━━━━━━━━━━━━━━━━━━━━━\u001b[0m \u001b[32m6.8/6.8 MB\u001b[0m \u001b[31m96.9 MB/s\u001b[0m eta \u001b[36m0:00:00\u001b[0m:00:01\u001b[0m00:01\u001b[0m\n",
      "\u001b[?25hDownloading py_machineid-0.5.1-py3-none-any.whl (4.7 kB)\n",
      "Downloading coloredlogs-15.0.1-py2.py3-none-any.whl (46 kB)\n",
      "\u001b[2K   \u001b[90m━━━━━━━━━━━━━━━━━━━━━━━━━━━━━━━━━━━━━━━━\u001b[0m \u001b[32m46.0/46.0 kB\u001b[0m \u001b[31m6.5 MB/s\u001b[0m eta \u001b[36m0:00:00\u001b[0m\n",
      "\u001b[?25hDownloading ratelim-0.1.6-py2.py3-none-any.whl (4.0 kB)\n",
      "Downloading humanfriendly-10.0-py2.py3-none-any.whl (86 kB)\n",
      "\u001b[2K   \u001b[90m━━━━━━━━━━━━━━━━━━━━━━━━━━━━━━━━━━━━━━━━\u001b[0m \u001b[32m86.8/86.8 kB\u001b[0m \u001b[31m10.3 MB/s\u001b[0m eta \u001b[36m0:00:00\u001b[0m\n",
      "\u001b[?25hBuilding wheels for collected packages: GPUtil\n",
      "  Building wheel for GPUtil (setup.py) ... \u001b[?25ldone\n",
      "\u001b[?25h  Created wheel for GPUtil: filename=GPUtil-1.4.0-py3-none-any.whl size=7394 sha256=1e746e3004635a83efff32945c19efdd8007ca985f1e2cb7d213176813e5d3f0\n",
      "  Stored in directory: /tmp/xdg_cache/pip/wheels/a9/8a/bd/81082387151853ab8b6b3ef33426e98f5cbfebc3c397a9d4d0\n",
      "Successfully built GPUtil\n",
      "\u001b[33mWARNING: Ignoring invalid distribution -vidia-cudnn-cu12 (/home/jupyter/.local/lib/python3.10/site-packages)\u001b[0m\u001b[33m\n",
      "\u001b[0mInstalling collected packages: toposort, py-machineid, merge-args, GPUtil, torch, setuptools, ratelim, onnx, humanfriendly, geocoder, coloredlogs, onnxruntime, sparsezoo, sparseml, deepsparse\n",
      "  Attempting uninstall: torch\n",
      "    Found existing installation: torch 2.1.2\n",
      "    Uninstalling torch-2.1.2:\n",
      "      Successfully uninstalled torch-2.1.2\n",
      "\u001b[33m  WARNING: The scripts convert-caffe2-to-onnx, convert-onnx-to-caffe2 and torchrun are installed in '/home/jupyter/.local/bin' which is not on PATH.\n",
      "  Consider adding this directory to PATH or, if you prefer to suppress this warning, use --no-warn-script-location.\u001b[0m\u001b[33m\n",
      "\u001b[0m\u001b[33m  WARNING: The scripts backend-test-tools, check-model and check-node are installed in '/home/jupyter/.local/bin' which is not on PATH.\n",
      "  Consider adding this directory to PATH or, if you prefer to suppress this warning, use --no-warn-script-location.\u001b[0m\u001b[33m\n",
      "\u001b[0m\u001b[33m  WARNING: The script humanfriendly is installed in '/home/jupyter/.local/bin' which is not on PATH.\n",
      "  Consider adding this directory to PATH or, if you prefer to suppress this warning, use --no-warn-script-location.\u001b[0m\u001b[33m\n",
      "\u001b[0m\u001b[33m  WARNING: The script geocode is installed in '/home/jupyter/.local/bin' which is not on PATH.\n",
      "  Consider adding this directory to PATH or, if you prefer to suppress this warning, use --no-warn-script-location.\u001b[0m\u001b[33m\n",
      "\u001b[0m\u001b[33m  WARNING: The script coloredlogs is installed in '/home/jupyter/.local/bin' which is not on PATH.\n",
      "  Consider adding this directory to PATH or, if you prefer to suppress this warning, use --no-warn-script-location.\u001b[0m\u001b[33m\n",
      "\u001b[0m\u001b[33m  WARNING: The script onnxruntime_test is installed in '/home/jupyter/.local/bin' which is not on PATH.\n",
      "  Consider adding this directory to PATH or, if you prefer to suppress this warning, use --no-warn-script-location.\u001b[0m\u001b[33m\n",
      "\u001b[0m\u001b[33m  WARNING: The scripts sparsezoo, sparsezoo.analyze, sparsezoo.deployment_package and sparsezoo.download are installed in '/home/jupyter/.local/bin' which is not on PATH.\n",
      "  Consider adding this directory to PATH or, if you prefer to suppress this warning, use --no-warn-script-location.\u001b[0m\u001b[33m\n",
      "\u001b[0m\u001b[33m  WARNING: The scripts sparseml.evaluate, sparseml.export, sparseml.framework, sparseml.image_classification.export_onnx, sparseml.image_classification.train, sparseml.openpifpaf.export_onnx, sparseml.openpifpaf.train, sparseml.pytorch.image_classification.export_onnx, sparseml.pytorch.image_classification.lr_analysis, sparseml.pytorch.image_classification.pr_sensitivity, sparseml.pytorch.image_classification.train, sparseml.recipe_template, sparseml.sparsification, sparseml.transformers.export_onnx, sparseml.transformers.export_onnx_refactor, sparseml.transformers.masked_language_modeling, sparseml.transformers.question_answering, sparseml.transformers.text_classification, sparseml.transformers.text_generation.apply, sparseml.transformers.text_generation.compress, sparseml.transformers.text_generation.eval, sparseml.transformers.text_generation.finetune, sparseml.transformers.text_generation.oneshot, sparseml.transformers.text_generation.train, sparseml.transformers.token_classification, sparseml.transformers.train.masked_language_modeling, sparseml.transformers.train.question_answering, sparseml.transformers.train.text_classification, sparseml.transformers.train.token_classification, sparseml.ultralytics.export_onnx, sparseml.ultralytics.train, sparseml.ultralytics.val, sparseml.yolact.download, sparseml.yolact.export_onnx, sparseml.yolact.train, sparseml.yolact.validation, sparseml.yolov5.export_onnx, sparseml.yolov5.train and sparseml.yolov5.validation are installed in '/home/jupyter/.local/bin' which is not on PATH.\n",
      "  Consider adding this directory to PATH or, if you prefer to suppress this warning, use --no-warn-script-location.\u001b[0m\u001b[33m\n",
      "\u001b[0m\u001b[33m  WARNING: The scripts deepsparse.analyze, deepsparse.benchmark, deepsparse.benchmark_pipeline, deepsparse.benchmark_sweep, deepsparse.check_hardware, deepsparse.debug_analysis, deepsparse.evaluate, deepsparse.image_classification.annotate, deepsparse.image_classification.eval, deepsparse.infer, deepsparse.instance_segmentation.annotate, deepsparse.license, deepsparse.object_detection.annotate, deepsparse.openai, deepsparse.pose_estimation.annotate, deepsparse.pose_estimation.eval, deepsparse.server, deepsparse.transformers.eval_downstream, deepsparse.transformers.run_inference, deepsparse.validate_license, deepsparse.yolov8.annotate and deepsparse.yolov8.eval are installed in '/home/jupyter/.local/bin' which is not on PATH.\n",
      "  Consider adding this directory to PATH or, if you prefer to suppress this warning, use --no-warn-script-location.\u001b[0m\u001b[33m\n",
      "\u001b[0m\u001b[31mERROR: pip's dependency resolver does not currently take into account all the packages that are installed. This behaviour is the source of the following dependency conflicts.\n",
      "arviz 0.15.1 requires setuptools>=60.0.0, but you have setuptools 59.5.0 which is incompatible.\n",
      "cvxpy 1.3.2 requires setuptools>65.5.1, but you have setuptools 59.5.0 which is incompatible.\n",
      "numba 0.56.4 requires numpy<1.24,>=1.18, but you have numpy 1.26.4 which is incompatible.\n",
      "pandas-gbq 0.17.9 requires pyarrow<10.0dev,>=3.0.0, but you have pyarrow 15.0.0 which is incompatible.\n",
      "tensorflow 2.12.0 requires numpy<1.24,>=1.22, but you have numpy 1.26.4 which is incompatible.\n",
      "torchaudio 2.0.2+cu118 requires torch==2.0.1, but you have torch 1.12.1 which is incompatible.\n",
      "torchdata 0.6.1 requires torch==2.0.1, but you have torch 1.12.1 which is incompatible.\n",
      "torchtext 0.15.2 requires torch==2.0.1, but you have torch 1.12.1 which is incompatible.\n",
      "torchvision 0.15.2+cu118 requires torch==2.0.1, but you have torch 1.12.1 which is incompatible.\u001b[0m\u001b[31m\n",
      "\u001b[0mSuccessfully installed GPUtil-1.4.0 coloredlogs-15.0.1 deepsparse-1.7.0 geocoder-1.38.1 humanfriendly-10.0 merge-args-0.1.5 onnx-1.14.1 onnxruntime-1.17.1 py-machineid-0.5.1 ratelim-0.1.6 setuptools-59.5.0 sparseml-1.7.0 sparsezoo-1.7.0 toposort-1.10 torch-1.12.1\n",
      "\n",
      "\u001b[1m[\u001b[0m\u001b[34;49mnotice\u001b[0m\u001b[1;39;49m]\u001b[0m\u001b[39;49m A new release of pip is available: \u001b[0m\u001b[31;49m23.0.1\u001b[0m\u001b[39;49m -> \u001b[0m\u001b[32;49m24.0\u001b[0m\n",
      "\u001b[1m[\u001b[0m\u001b[34;49mnotice\u001b[0m\u001b[1;39;49m]\u001b[0m\u001b[39;49m To update, run: \u001b[0m\u001b[32;49mpython3 -m pip install --upgrade pip\u001b[0m\n"
     ]
    }
   ],
   "source": [
    "%pip install deepsparse==1.7.0 sparseml==1.7.0 torch==1.12.1"
   ]
  },
  {
   "cell_type": "code",
   "execution_count": 1,
   "id": "2b80dd81-fc1a-4665-a1c2-bdb6e1b2cbfd",
   "metadata": {
    "execution": {
     "iopub.execute_input": "2024-03-29T10:46:30.342605Z",
     "iopub.status.busy": "2024-03-29T10:46:30.341655Z",
     "iopub.status.idle": "2024-03-29T10:46:40.863656Z",
     "shell.execute_reply": "2024-03-29T10:46:40.862379Z",
     "shell.execute_reply.started": "2024-03-29T10:46:30.342553Z"
    },
    "tags": []
   },
   "outputs": [
    {
     "name": "stdout",
     "output_type": "stream",
     "text": [
      "untrained case\n",
      "19971112\n"
     ]
    },
    {
     "name": "stderr",
     "output_type": "stream",
     "text": [
      "/usr/local/lib/python3.10/dist-packages/torchvision/io/image.py:13: UserWarning: Failed to load image Python extension: '/usr/local/lib/python3.10/dist-packages/torchvision/image.so: undefined symbol: _ZN3c104impl8GPUTrace13gpuTraceStateE'If you don't plan on using image functionality from `torchvision.io`, you can ignore this warning. Otherwise, there might be something wrong with your environment. Did you have `libjpeg` or `libpng` installed before building `torchvision` from source?\n",
      "  warn(\n",
      "/home/jupyter/.local/lib/python3.10/site-packages/transformers/utils/hub.py:124: FutureWarning: Using `TRANSFORMERS_CACHE` is deprecated and will be removed in v5 of Transformers. Use `HF_HOME` instead.\n",
      "  warnings.warn(\n",
      "Traceback (most recent call last):\n",
      "  File \"/home/jupyter/work/resources/EFDL_hw9/task1/../example_train_sparse_and_quantize.py\", line 105, in <module>\n",
      "    main()\n",
      "  File \"/home/jupyter/work/resources/EFDL_hw9/task1/../example_train_sparse_and_quantize.py\", line 36, in main\n",
      "    model = torch.fx.symbolic_trace(model)\n",
      "  File \"/home/jupyter/.local/lib/python3.10/site-packages/torch/fx/_symbolic_trace.py\", line 878, in symbolic_trace\n",
      "    graph = tracer.trace(root, concrete_args)\n",
      "  File \"/home/jupyter/.local/lib/python3.10/site-packages/torch/fx/_symbolic_trace.py\", line 587, in trace\n",
      "    self.create_node('output', 'output', (self.create_arg(fn(*args)),), {},\n",
      "  File \"/home/jupyter/work/resources/EFDL_hw9/task1/model.py\", line 43, in forward\n",
      "    if return_temporary:\n",
      "  File \"/home/jupyter/.local/lib/python3.10/site-packages/torch/fx/proxy.py\", line 284, in __bool__\n",
      "    return self.tracer.to_bool(self)\n",
      "  File \"/home/jupyter/.local/lib/python3.10/site-packages/torch/fx/proxy.py\", line 160, in to_bool\n",
      "    raise TraceError('symbolically traced variables cannot be used as inputs to control flow')\n",
      "torch.fx.proxy.TraceError: symbolically traced variables cannot be used as inputs to control flow\n"
     ]
    },
    {
     "ename": "Exception",
     "evalue": "Process exited with code 1",
     "output_type": "error",
     "traceback": [
      "\u001b[0;31m---------------------------------------------------------------------------\u001b[0m",
      "\u001b[0;31mException\u001b[0m                                 Traceback (most recent call last)",
      "\u001b[0;32m<ipython-input-1-b4d7d9167538>\u001b[0m in \u001b[0;36m<module>\u001b[0;34m\u001b[0m\n\u001b[0;32m----> 1\u001b[0;31m \u001b[0mget_ipython\u001b[0m\u001b[0;34m(\u001b[0m\u001b[0;34m)\u001b[0m\u001b[0;34m.\u001b[0m\u001b[0msystem\u001b[0m\u001b[0;34m(\u001b[0m\u001b[0;34m'python3 ../example_train_sparse_and_quantize.py'\u001b[0m\u001b[0;34m)\u001b[0m\u001b[0;34m\u001b[0m\u001b[0;34m\u001b[0m\u001b[0m\n\u001b[0m\u001b[1;32m      2\u001b[0m \u001b[0;31m#\u001b[0m\u001b[0;34m\u001b[0m\u001b[0;34m\u001b[0m\u001b[0m\n",
      "\u001b[0;32m/kernel/lib/python3.10/site-packages/ml_kernel/kernel.py\u001b[0m in \u001b[0;36m<lambda>\u001b[0;34m(code)\u001b[0m\n\u001b[1;32m    274\u001b[0m \u001b[0;34m\u001b[0m\u001b[0m\n\u001b[1;32m    275\u001b[0m         \u001b[0mself\u001b[0m\u001b[0;34m.\u001b[0m\u001b[0m_script_executor\u001b[0m \u001b[0;34m=\u001b[0m \u001b[0mScriptExecutor\u001b[0m\u001b[0;34m(\u001b[0m\u001b[0mget_output_error_code\u001b[0m\u001b[0;34m)\u001b[0m\u001b[0;34m\u001b[0m\u001b[0;34m\u001b[0m\u001b[0m\n\u001b[0;32m--> 276\u001b[0;31m         \u001b[0mself\u001b[0m\u001b[0;34m.\u001b[0m\u001b[0mshell\u001b[0m\u001b[0;34m.\u001b[0m\u001b[0msystem\u001b[0m \u001b[0;34m=\u001b[0m \u001b[0;32mlambda\u001b[0m \u001b[0mcode\u001b[0m\u001b[0;34m:\u001b[0m \u001b[0mself\u001b[0m\u001b[0;34m.\u001b[0m\u001b[0m_script_executor\u001b[0m\u001b[0;34m.\u001b[0m\u001b[0mexecute\u001b[0m\u001b[0;34m(\u001b[0m\u001b[0;34m\"bash\"\u001b[0m\u001b[0;34m,\u001b[0m \u001b[0mcode\u001b[0m\u001b[0;34m)\u001b[0m\u001b[0;34m\u001b[0m\u001b[0;34m\u001b[0m\u001b[0m\n\u001b[0m\u001b[1;32m    277\u001b[0m \u001b[0;34m\u001b[0m\u001b[0m\n\u001b[1;32m    278\u001b[0m     \u001b[0;32mdef\u001b[0m \u001b[0m_init_message_handlers\u001b[0m\u001b[0;34m(\u001b[0m\u001b[0mself\u001b[0m\u001b[0;34m)\u001b[0m\u001b[0;34m:\u001b[0m\u001b[0;34m\u001b[0m\u001b[0;34m\u001b[0m\u001b[0m\n",
      "\u001b[0;32m/kernel/lib/python3.10/site-packages/ml_kernel/script_executor.py\u001b[0m in \u001b[0;36mexecute\u001b[0;34m(self, lang, code)\u001b[0m\n\u001b[1;32m     41\u001b[0m         \u001b[0mreturn_code\u001b[0m \u001b[0;34m=\u001b[0m \u001b[0mself\u001b[0m\u001b[0;34m.\u001b[0m\u001b[0mdo_execute\u001b[0m\u001b[0;34m(\u001b[0m\u001b[0mcode\u001b[0m\u001b[0;34m)\u001b[0m\u001b[0;34m\u001b[0m\u001b[0;34m\u001b[0m\u001b[0m\n\u001b[1;32m     42\u001b[0m         \u001b[0;32mif\u001b[0m \u001b[0mreturn_code\u001b[0m \u001b[0;34m!=\u001b[0m \u001b[0;36m0\u001b[0m\u001b[0;34m:\u001b[0m\u001b[0;34m\u001b[0m\u001b[0;34m\u001b[0m\u001b[0m\n\u001b[0;32m---> 43\u001b[0;31m             \u001b[0;32mraise\u001b[0m \u001b[0mException\u001b[0m\u001b[0;34m(\u001b[0m\u001b[0;34m'Process exited with code %d'\u001b[0m \u001b[0;34m%\u001b[0m \u001b[0mreturn_code\u001b[0m\u001b[0;34m)\u001b[0m\u001b[0;34m\u001b[0m\u001b[0;34m\u001b[0m\u001b[0m\n\u001b[0m",
      "\u001b[0;31mException\u001b[0m: Process exited with code 1"
     ]
    }
   ],
   "source": [
    "!python3 ../example_train_sparse_and_quantize.py"
   ]
  },
  {
   "cell_type": "code",
   "execution_count": null,
   "id": "37b5452f-d412-401b-9b88-38e116ae4fa6",
   "metadata": {},
   "outputs": [],
   "source": []
  }
 ],
 "metadata": {
  "kernelspec": {
   "display_name": "DataSphere Kernel",
   "language": "python",
   "name": "python3"
  },
  "language_info": {
   "codemirror_mode": {
    "name": "ipython",
    "version": 3
   },
   "file_extension": ".py",
   "mimetype": "text/x-python",
   "name": "python",
   "nbconvert_exporter": "python",
   "pygments_lexer": "ipython3",
   "version": "3.7.7"
  }
 },
 "nbformat": 4,
 "nbformat_minor": 5
}
