{
 "cells": [
  {
   "cell_type": "code",
   "execution_count": null,
   "id": "dc8a5131-1a35-4d2a-bbf3-bf7e764d98d1",
   "metadata": {
    "execution": {
     "iopub.execute_input": "2024-03-28T18:09:35.049910Z",
     "iopub.status.busy": "2024-03-28T18:09:35.049056Z",
     "iopub.status.idle": "2024-03-28T18:09:37.929998Z"
    },
    "tags": []
   },
   "outputs": [
    {
     "name": "stderr",
     "output_type": "stream",
     "text": [
      "/home/jupyter/.local/lib/python3.10/site-packages/transformers/utils/hub.py:124: FutureWarning: Using `TRANSFORMERS_CACHE` is deprecated and will be removed in v5 of Transformers. Use `HF_HOME` instead.\n",
      "  warnings.warn(\n"
     ]
    }
   ],
   "source": [
    "from train import train"
   ]
  },
  {
   "cell_type": "code",
   "execution_count": null,
   "id": "7053eebc-348a-48ad-be9d-37f982976a13",
   "metadata": {
    "tags": []
   },
   "outputs": [],
   "source": [
    "params = {\n",
    "    \"batch_size\": 128,\n",
    "    \"num_workers\": 4,\n",
    "    \"lr\": 1e-4,\n",
    "    \"weight_decay\": 0,\n",
    "    \"n_epochs\": 5,\n",
    "    \"wandb_log\": True,\n",
    "    \"save\": True,\n",
    "    \"wandb_key\": \"9f8480fbfcfd1d06b91b59aa5d23ed5482fdee2e\",\n",
    "    \"name\": \"basic fine-tuning of resnet101\"\n",
    "}"
   ]
  },
  {
   "cell_type": "code",
   "execution_count": 2,
   "id": "566102cc-e7ef-4fee-9399-8a72bbfb66fb",
   "metadata": {
    "execution": {
     "iopub.execute_input": "2024-03-28T15:28:31.057645Z",
     "iopub.status.busy": "2024-03-28T15:28:31.056711Z",
     "iopub.status.idle": "2024-03-28T15:28:31.119928Z",
     "shell.execute_reply": "2024-03-28T15:28:31.119118Z",
     "shell.execute_reply.started": "2024-03-28T15:28:31.057606Z"
    },
    "tags": []
   },
   "outputs": [],
   "source": [
    "%load_ext autoreload\n",
    "%autoreload 2"
   ]
  },
  {
   "cell_type": "code",
   "execution_count": null,
   "id": "50b50f9b-7af9-4869-9ea0-1e451d3f8c8c",
   "metadata": {
    "tags": []
   },
   "outputs": [],
   "source": [
    "train(\n",
    "    device=\"cuda\",\n",
    "    params=params,\n",
    "    path=\"first_task\"\n",
    ")"
   ]
  },
  {
   "cell_type": "code",
   "execution_count": null,
   "id": "29b3bea7-c141-46be-a20f-b33286fdf82d",
   "metadata": {
    "tags": []
   },
   "outputs": [],
   "source": [
    "import wandb\n",
    "wandb.finish()"
   ]
  },
  {
   "cell_type": "code",
   "execution_count": 2,
   "id": "25cb7a61-a910-4a13-97b0-63bc61be0854",
   "metadata": {
    "execution": {
     "iopub.execute_input": "2024-03-28T18:09:43.261682Z",
     "iopub.status.busy": "2024-03-28T18:09:43.261043Z",
     "iopub.status.idle": "2024-03-28T18:09:43.271935Z",
     "shell.execute_reply": "2024-03-28T18:09:43.271163Z",
     "shell.execute_reply.started": "2024-03-28T18:09:43.261641Z"
    },
    "tags": []
   },
   "outputs": [],
   "source": [
    "from train import train_distilled"
   ]
  },
  {
   "cell_type": "code",
   "execution_count": null,
   "id": "16c79e88-ef35-4aff-804d-4cbc4fc7846c",
   "metadata": {
    "tags": []
   },
   "outputs": [],
   "source": [
    "params = {\n",
    "    \"batch_size\": 128,\n",
    "    \"num_workers\": 4,\n",
    "    \"lr\": 1e-3,\n",
    "    \"weight_decay\": 0,\n",
    "    \"n_epochs\": 10,\n",
    "    \"wandb_log\": True,\n",
    "    \"save\": True,\n",
    "    \"wandb_key\": \"9f8480fbfcfd1d06b91b59aa5d23ed5482fdee2e\",\n",
    "    \"name\": \"basic distillation of resnet101, weight=0.25\"\n",
    "}"
   ]
  },
  {
   "cell_type": "code",
   "execution_count": null,
   "id": "506129e1-17dc-40aa-b853-662c10202c55",
   "metadata": {
    "tags": []
   },
   "outputs": [],
   "source": [
    "train_distilled(\n",
    "    device=\"cuda\",\n",
    "    params=params,\n",
    "    teacher_path=\"first_task.pth\"\n",
    ")"
   ]
  },
  {
   "cell_type": "code",
   "execution_count": 7,
   "id": "742a5be5-c7c9-492b-9f17-d711f998c771",
   "metadata": {
    "execution": {
     "iopub.execute_input": "2024-03-28T17:39:58.691693Z",
     "iopub.status.busy": "2024-03-28T17:39:58.690883Z",
     "iopub.status.idle": "2024-03-28T17:39:58.700186Z",
     "shell.execute_reply": "2024-03-28T17:39:58.699552Z",
     "shell.execute_reply.started": "2024-03-28T17:39:58.691650Z"
    },
    "tags": []
   },
   "outputs": [],
   "source": [
    "import wandb\n",
    "wandb.finish()"
   ]
  },
  {
   "cell_type": "markdown",
   "id": "1dc72a41-34cf-442f-8e18-edd7fcbfe280",
   "metadata": {},
   "source": [
    "pretrained = False for truncated version of resnet101 in file train.py"
   ]
  },
  {
   "cell_type": "code",
   "execution_count": 3,
   "id": "979d0641-4a99-424c-8a43-4fc81dbd9594",
   "metadata": {
    "execution": {
     "iopub.execute_input": "2024-03-28T15:28:32.771955Z",
     "iopub.status.busy": "2024-03-28T15:28:32.771140Z",
     "iopub.status.idle": "2024-03-28T15:28:32.957640Z",
     "shell.execute_reply": "2024-03-28T15:28:32.956834Z",
     "shell.execute_reply.started": "2024-03-28T15:28:32.771922Z"
    },
    "tags": []
   },
   "outputs": [],
   "source": [
    "params = {\n",
    "    \"batch_size\": 128,\n",
    "    \"num_workers\": 4,\n",
    "    \"lr\": 1e-3,\n",
    "    \"weight_decay\": 0,\n",
    "    \"n_epochs\": 10,\n",
    "    \"wandb_log\": True,\n",
    "    \"save\": True,\n",
    "    \"wandb_key\": \"9f8480fbfcfd1d06b91b59aa5d23ed5482fdee2e\",\n",
    "    \"name\": \"truncated version of resnet101\"\n",
    "}"
   ]
  },
  {
   "cell_type": "code",
   "execution_count": 4,
   "id": "69e9352f-325a-41e5-bb19-53d426ea7e08",
   "metadata": {
    "execution": {
     "iopub.execute_input": "2024-03-28T15:28:37.478878Z",
     "iopub.status.busy": "2024-03-28T15:28:37.477947Z",
     "iopub.status.idle": "2024-03-28T15:48:41.023238Z",
     "shell.execute_reply": "2024-03-28T15:48:41.022485Z",
     "shell.execute_reply.started": "2024-03-28T15:28:37.478836Z"
    },
    "tags": []
   },
   "outputs": [
    {
     "name": "stdout",
     "output_type": "stream",
     "text": [
      "untrained case\n",
      "19971112\n",
      "Files already downloaded and verified\n",
      "Files already downloaded and verified\n"
     ]
    },
    {
     "name": "stderr",
     "output_type": "stream",
     "text": [
      "\u001b[34m\u001b[1mwandb\u001b[0m: \u001b[33mWARNING\u001b[0m If you're specifying your api key in code, ensure this code is not shared publicly.\n",
      "\u001b[34m\u001b[1mwandb\u001b[0m: \u001b[33mWARNING\u001b[0m Consider setting the WANDB_API_KEY environment variable, or running `wandb login` from the command line.\n",
      "\u001b[34m\u001b[1mwandb\u001b[0m: Appending key for api.wandb.ai to your netrc file: /home/jupyter/.netrc\n",
      "\u001b[34m\u001b[1mwandb\u001b[0m: Currently logged in as: \u001b[33mkilka74\u001b[0m. Use \u001b[1m`wandb login --relogin`\u001b[0m to force relogin\n",
      "\u001b[34m\u001b[1mwandb\u001b[0m: wandb version 0.16.5 is available!  To upgrade, please run:\n",
      "\u001b[34m\u001b[1mwandb\u001b[0m:  $ pip install wandb --upgrade\n",
      "\u001b[34m\u001b[1mwandb\u001b[0m: Tracking run with wandb version 0.16.3\n",
      "\u001b[34m\u001b[1mwandb\u001b[0m: Run data is saved locally in \u001b[35m\u001b[1m/home/jupyter/work/resources/EFDL_hw9/task1/wandb/run-20240328_152841-1t1yao9h\u001b[0m\n",
      "\u001b[34m\u001b[1mwandb\u001b[0m: Run \u001b[1m`wandb offline`\u001b[0m to turn off syncing.\n",
      "\u001b[34m\u001b[1mwandb\u001b[0m: Syncing run \u001b[33mtruncated version of resnet101\u001b[0m\n",
      "\u001b[34m\u001b[1mwandb\u001b[0m: ⭐️ View project at \u001b[34m\u001b[4mhttps://wandb.ai/kilka74/EFDL_hw9\u001b[0m\n",
      "\u001b[34m\u001b[1mwandb\u001b[0m: 🚀 View run at \u001b[34m\u001b[4mhttps://wandb.ai/kilka74/EFDL_hw9/runs/1t1yao9h\u001b[0m\n",
      "Loss: 0.9377: 100%|██████████| 391/391 [01:48<00:00,  3.62it/s]\n",
      "Accuracy: 0.6128000020980835: 100%|██████████| 79/79 [00:06<00:00, 11.86it/s]\n",
      "Loss: 0.8721: 100%|██████████| 391/391 [01:51<00:00,  3.50it/s]\n",
      "Accuracy: 0.698199987411499: 100%|██████████| 79/79 [00:06<00:00, 11.63it/s] \n",
      "Loss: 0.4986: 100%|██████████| 391/391 [01:52<00:00,  3.46it/s]\n",
      "Accuracy: 0.7263999581336975: 100%|██████████| 79/79 [00:06<00:00, 11.62it/s]\n",
      "Loss: 0.6706: 100%|██████████| 391/391 [01:52<00:00,  3.46it/s]\n",
      "Accuracy: 0.7500999569892883: 100%|██████████| 79/79 [00:06<00:00, 11.60it/s]\n",
      "Loss: 0.3118: 100%|██████████| 391/391 [01:52<00:00,  3.46it/s]\n",
      "Accuracy: 0.7604999542236328: 100%|██████████| 79/79 [00:06<00:00, 11.59it/s]\n",
      "Loss: 0.2553: 100%|██████████| 391/391 [01:52<00:00,  3.46it/s]\n",
      "Accuracy: 0.7913999557495117: 100%|██████████| 79/79 [00:06<00:00, 11.55it/s]\n",
      "Loss: 0.3209: 100%|██████████| 391/391 [01:52<00:00,  3.46it/s]\n",
      "Accuracy: 0.8087999820709229: 100%|██████████| 79/79 [00:06<00:00, 11.58it/s]\n",
      "Loss: 0.2021: 100%|██████████| 391/391 [01:52<00:00,  3.46it/s]\n",
      "Accuracy: 0.8043999671936035: 100%|██████████| 79/79 [00:06<00:00, 11.63it/s]\n",
      "Loss: 0.4730: 100%|██████████| 391/391 [01:52<00:00,  3.46it/s]\n",
      "Accuracy: 0.7910999655723572: 100%|██████████| 79/79 [00:06<00:00, 11.59it/s]\n",
      "Loss: 0.2230: 100%|██████████| 391/391 [01:52<00:00,  3.46it/s]\n",
      "Accuracy: 0.8083999752998352: 100%|██████████| 79/79 [00:06<00:00, 11.64it/s]\n"
     ]
    },
    {
     "name": "stdout",
     "output_type": "stream",
     "text": [
      "finish\n"
     ]
    },
    {
     "name": "stderr",
     "output_type": "stream",
     "text": [
      "wandb: WARNING No program path found, not creating job artifact. See https://docs.wandb.ai/guides/launch/create-job\n",
      "\u001b[34m\u001b[1mwandb\u001b[0m:                                                                                \n",
      "\u001b[34m\u001b[1mwandb\u001b[0m: \n",
      "\u001b[34m\u001b[1mwandb\u001b[0m: Run history:\n",
      "\u001b[34m\u001b[1mwandb\u001b[0m: accuracy ▁▄▅▆▆▇██▇█\n",
      "\u001b[34m\u001b[1mwandb\u001b[0m:     loss █▆▆▅▅▅▄▄▄▃▃▃▃▃▂▃▂▂▂▂▂▁▂▂▁▁▁▂▁▁▂▁▁▁▂▂▁▁▁▁\n",
      "\u001b[34m\u001b[1mwandb\u001b[0m: \n",
      "\u001b[34m\u001b[1mwandb\u001b[0m: Run summary:\n",
      "\u001b[34m\u001b[1mwandb\u001b[0m: accuracy 0.8084\n",
      "\u001b[34m\u001b[1mwandb\u001b[0m:     loss 0.22296\n",
      "\u001b[34m\u001b[1mwandb\u001b[0m: \n",
      "\u001b[34m\u001b[1mwandb\u001b[0m: 🚀 View run \u001b[33mtruncated version of resnet101\u001b[0m at: \u001b[34m\u001b[4mhttps://wandb.ai/kilka74/EFDL_hw9/runs/1t1yao9h\u001b[0m\n",
      "\u001b[34m\u001b[1mwandb\u001b[0m: Synced 5 W&B file(s), 0 media file(s), 0 artifact file(s) and 0 other file(s)\n",
      "\u001b[34m\u001b[1mwandb\u001b[0m: Find logs at: \u001b[35m\u001b[1m./wandb/run-20240328_152841-1t1yao9h/logs\u001b[0m\n"
     ]
    }
   ],
   "source": [
    "train(device=\"cuda\", params=params, path=\"truncated\")"
   ]
  },
  {
   "cell_type": "code",
   "execution_count": 3,
   "id": "e3ce75e4-5733-488c-ab98-9c1131e6e122",
   "metadata": {
    "execution": {
     "iopub.execute_input": "2024-03-28T18:09:50.323971Z",
     "iopub.status.busy": "2024-03-28T18:09:50.323060Z",
     "iopub.status.idle": "2024-03-28T18:09:50.337856Z",
     "shell.execute_reply": "2024-03-28T18:09:50.337070Z",
     "shell.execute_reply.started": "2024-03-28T18:09:50.323931Z"
    },
    "tags": []
   },
   "outputs": [],
   "source": [
    "params = {\n",
    "    \"batch_size\": 128,\n",
    "    \"num_workers\": 4,\n",
    "    \"lr\": 1e-3,\n",
    "    \"weight_decay\": 0,\n",
    "    \"n_epochs\": 15,\n",
    "    \"wandb_log\": True,\n",
    "    \"save\": True,\n",
    "    \"wandb_key\": \"9f8480fbfcfd1d06b91b59aa5d23ed5482fdee2e\",\n",
    "    \"name\": \"distillation of resnet101 with mse\"\n",
    "}"
   ]
  },
  {
   "cell_type": "code",
   "execution_count": 4,
   "id": "21920aaf-6ec9-4c26-aca4-c03a99979551",
   "metadata": {
    "execution": {
     "iopub.execute_input": "2024-03-28T18:09:52.672662Z",
     "iopub.status.busy": "2024-03-28T18:09:52.671652Z",
     "iopub.status.idle": "2024-03-28T18:35:33.126270Z",
     "shell.execute_reply": "2024-03-28T18:35:33.125157Z",
     "shell.execute_reply.started": "2024-03-28T18:09:52.672618Z"
    },
    "tags": []
   },
   "outputs": [
    {
     "name": "stdout",
     "output_type": "stream",
     "text": [
      "prerained case\n"
     ]
    },
    {
     "name": "stderr",
     "output_type": "stream",
     "text": [
      "Downloading: \"https://download.pytorch.org/models/resnet101-cd907fc2.pth\" to /tmp/xdg_cache/torch/hub/checkpoints/resnet101-cd907fc2.pth\n",
      "100%|██████████| 171M/171M [00:02<00:00, 68.9MB/s] \n"
     ]
    },
    {
     "name": "stdout",
     "output_type": "stream",
     "text": [
      "44549160\n",
      "untrained case\n",
      "19971112\n",
      "Files already downloaded and verified\n",
      "Files already downloaded and verified\n"
     ]
    },
    {
     "name": "stderr",
     "output_type": "stream",
     "text": [
      "\u001b[34m\u001b[1mwandb\u001b[0m: \u001b[33mWARNING\u001b[0m If you're specifying your api key in code, ensure this code is not shared publicly.\n",
      "\u001b[34m\u001b[1mwandb\u001b[0m: \u001b[33mWARNING\u001b[0m Consider setting the WANDB_API_KEY environment variable, or running `wandb login` from the command line.\n",
      "\u001b[34m\u001b[1mwandb\u001b[0m: Appending key for api.wandb.ai to your netrc file: /home/jupyter/.netrc\n",
      "\u001b[34m\u001b[1mwandb\u001b[0m: Currently logged in as: \u001b[33mkilka74\u001b[0m. Use \u001b[1m`wandb login --relogin`\u001b[0m to force relogin\n",
      "\u001b[34m\u001b[1mwandb\u001b[0m: wandb version 0.16.5 is available!  To upgrade, please run:\n",
      "\u001b[34m\u001b[1mwandb\u001b[0m:  $ pip install wandb --upgrade\n",
      "\u001b[34m\u001b[1mwandb\u001b[0m: Tracking run with wandb version 0.16.3\n",
      "\u001b[34m\u001b[1mwandb\u001b[0m: Run data is saved locally in \u001b[35m\u001b[1m/home/jupyter/work/resources/EFDL_hw9/task1/wandb/run-20240328_181000-dwrt5ica\u001b[0m\n",
      "\u001b[34m\u001b[1mwandb\u001b[0m: Run \u001b[1m`wandb offline`\u001b[0m to turn off syncing.\n",
      "\u001b[34m\u001b[1mwandb\u001b[0m: Syncing run \u001b[33mdistillation of resnet101 with mse\u001b[0m\n",
      "\u001b[34m\u001b[1mwandb\u001b[0m: ⭐️ View project at \u001b[34m\u001b[4mhttps://wandb.ai/kilka74/EFDL_hw9\u001b[0m\n",
      "\u001b[34m\u001b[1mwandb\u001b[0m: 🚀 View run at \u001b[34m\u001b[4mhttps://wandb.ai/kilka74/EFDL_hw9/runs/dwrt5ica\u001b[0m\n",
      "Loss: 1.6326: 100%|██████████| 391/391 [02:59<00:00,  2.18it/s]\n",
      "Accuracy: 0.5641999840736389: 100%|██████████| 79/79 [00:06<00:00, 11.50it/s]\n",
      "Loss: 1.4603: 100%|██████████| 391/391 [03:04<00:00,  2.12it/s]\n",
      "Accuracy: 0.5593999624252319: 100%|██████████| 79/79 [00:06<00:00, 11.64it/s]\n",
      "Loss: 1.3254: 100%|██████████| 391/391 [03:04<00:00,  2.12it/s]\n",
      "Accuracy: 0.7339000105857849: 100%|██████████| 79/79 [00:06<00:00, 11.66it/s]\n",
      "Loss: 1.2657: 100%|██████████| 391/391 [03:04<00:00,  2.12it/s]\n",
      "Accuracy: 0.7591999769210815: 100%|██████████| 79/79 [00:06<00:00, 11.62it/s]\n",
      "Loss: 1.2611: 100%|██████████| 391/391 [03:04<00:00,  2.12it/s]\n",
      "Accuracy: 0.6917999982833862: 100%|██████████| 79/79 [00:06<00:00, 11.62it/s]\n",
      "Loss: 1.1850: 100%|██████████| 391/391 [03:04<00:00,  2.12it/s]\n",
      "Accuracy: 0.7935000061988831: 100%|██████████| 79/79 [00:06<00:00, 11.63it/s]\n",
      "Loss: 1.1047: 100%|██████████| 391/391 [03:04<00:00,  2.12it/s]\n",
      "Accuracy: 0.7911999821662903: 100%|██████████| 79/79 [00:06<00:00, 11.63it/s]\n",
      "Loss: 1.1111: 100%|██████████| 391/391 [03:04<00:00,  2.12it/s]\n",
      "Accuracy: 0.7913999557495117: 100%|██████████| 79/79 [00:06<00:00, 11.66it/s]\n",
      "wandb: WARNING No program path found, not creating job artifact. See https://docs.wandb.ai/guides/launch/create-job\n",
      "\u001b[34m\u001b[1mwandb\u001b[0m:                                                                                \n",
      "\u001b[34m\u001b[1mwandb\u001b[0m: \n",
      "\u001b[34m\u001b[1mwandb\u001b[0m: Run history:\n",
      "\u001b[34m\u001b[1mwandb\u001b[0m: accuracy ▁▁▆▇▅███\n",
      "\u001b[34m\u001b[1mwandb\u001b[0m:     loss █▆▅▄▄▄▄▃▃▃▃▂▃▃▂▂▂▂▂▂▂▂▂▂▁▁▂▂▂▁▁▁▁▁▁▁▁▁▁▁\n",
      "\u001b[34m\u001b[1mwandb\u001b[0m: \n",
      "\u001b[34m\u001b[1mwandb\u001b[0m: Run summary:\n",
      "\u001b[34m\u001b[1mwandb\u001b[0m: accuracy 0.7914\n",
      "\u001b[34m\u001b[1mwandb\u001b[0m:     loss 1.11111\n",
      "\u001b[34m\u001b[1mwandb\u001b[0m: \n",
      "\u001b[34m\u001b[1mwandb\u001b[0m: 🚀 View run \u001b[33mdistillation of resnet101 with mse\u001b[0m at: \u001b[34m\u001b[4mhttps://wandb.ai/kilka74/EFDL_hw9/runs/dwrt5ica\u001b[0m\n",
      "\u001b[34m\u001b[1mwandb\u001b[0m: Synced 5 W&B file(s), 0 media file(s), 0 artifact file(s) and 0 other file(s)\n",
      "\u001b[34m\u001b[1mwandb\u001b[0m: Find logs at: \u001b[35m\u001b[1m./wandb/run-20240328_181000-dwrt5ica/logs\u001b[0m\n"
     ]
    }
   ],
   "source": [
    "train_distilled(\n",
    "    device=\"cuda\",\n",
    "    params=params,\n",
    "    teacher_path=\"first_task.pth\",\n",
    "    path=\"distilled_with_mse\",\n",
    "    add_mse=True\n",
    ")"
   ]
  },
  {
   "cell_type": "code",
   "execution_count": null,
   "id": "2b80dd81-fc1a-4665-a1c2-bdb6e1b2cbfd",
   "metadata": {},
   "outputs": [],
   "source": []
  }
 ],
 "metadata": {
  "kernelspec": {
   "display_name": "DataSphere Kernel",
   "language": "python",
   "name": "python3"
  },
  "language_info": {
   "codemirror_mode": {
    "name": "ipython",
    "version": 3
   },
   "file_extension": ".py",
   "mimetype": "text/x-python",
   "name": "python",
   "nbconvert_exporter": "python",
   "pygments_lexer": "ipython3",
   "version": "3.7.7"
  }
 },
 "nbformat": 4,
 "nbformat_minor": 5
}
